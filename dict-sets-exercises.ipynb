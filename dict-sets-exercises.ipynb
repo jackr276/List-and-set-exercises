{
 "cells": [
  {
   "cell_type": "markdown",
   "id": "229883fc",
   "metadata": {},
   "source": [
    "#### Your Name: Jack Robbins\n",
    "#### Date: 10/23/2022"
   ]
  },
  {
   "cell_type": "markdown",
   "id": "ec676aff",
   "metadata": {},
   "source": [
    "# Dictionary and Sets Exercises\n"
   ]
  },
  {
   "cell_type": "markdown",
   "id": "eff5599f",
   "metadata": {},
   "source": [
    "\n",
    "\n",
    "\n",
    "\n",
    "## Exercise 1 - Dictionary Creation\n",
    "\n",
    "a. Construct a dictionary called `menu` for the following restaurant menu using the Item name as the `key`.  Then display how much a Small drink costs.\n",
    "\n",
    "\n",
    "\n",
    "| Item | Price |\n",
    "| --- | --- |\n",
    "| Small fries | 1.00 |\n",
    "| Hamburger | 1.00 |\n",
    "| Small drink | 1.00|\n",
    "| Medium drink | 1.50 |\n",
    "| Large drink | 2.00 |\n",
    "| Medium fries | 1.45 |\n",
    "| Large fries | 2.00 |\n",
    "| Cheeseburger | 2.50 |\n",
    "\n",
    "\n",
    "\n"
   ]
  },
  {
   "cell_type": "code",
   "execution_count": 1,
   "id": "d8923d53",
   "metadata": {},
   "outputs": [
    {
     "name": "stdout",
     "output_type": "stream",
     "text": [
      "The price of a small drink is $1.0\n"
     ]
    }
   ],
   "source": [
    "menu = {\"Small Fries\": 1.00, \"Hamburger\": 1.00, \"Small Drink\": 1.00, \"Medium Drink\": 1.50, \"Large Drink\": 2.00, \"Medium Fries\": 1.45, \"Large Fries\": 2.00, \"Cheeseburger\":2.50}\n",
    "print(\"The price of a small drink is $\" + str(menu.get(\"Small Drink\")))"
   ]
  },
  {
   "cell_type": "markdown",
   "id": "eff831fd",
   "metadata": {},
   "source": [
    "b. Programmatically create a new dictionary called `drinks` which only has the drink items as keys and its corresponding price.  (Hint: Use a loop to step through the keys of menu and then use the `in` operator to see if the key is a drink.  If so, then add it to the dictionary.)"
   ]
  },
  {
   "cell_type": "code",
   "execution_count": 2,
   "id": "88fa5f54",
   "metadata": {},
   "outputs": [
    {
     "name": "stdout",
     "output_type": "stream",
     "text": [
      "{'Small Drink': 1.0, 'Medium Drink': 1.5, 'Large Drink': 2.0}\n"
     ]
    }
   ],
   "source": [
    "drinks = {}\n",
    "\n",
    "for item in menu:\n",
    "    if \"Drink\" in item:\n",
    "        drinks[item] = menu[item]\n",
    "        \n",
    "print(drinks)"
   ]
  },
  {
   "cell_type": "markdown",
   "id": "25f9437b",
   "metadata": {},
   "source": [
    "c. Construct a dictionary `price` for the above restaurant menu using the Price as the `key`.  (Hint: use a list for the values.)\n",
    "\n",
    "Then, display the items that can appear on the Dollar Menu. "
   ]
  },
  {
   "cell_type": "code",
   "execution_count": 3,
   "id": "3d2f50c1",
   "metadata": {},
   "outputs": [
    {
     "name": "stdout",
     "output_type": "stream",
     "text": [
      "The dollar menu items would be['Small Fries', 'Hamburger', 'Small Drink']\n"
     ]
    }
   ],
   "source": [
    "price = {}\n",
    "\n",
    "for item in menu:\n",
    "    if menu[item] not in price:\n",
    "        price[menu[item]] = []\n",
    "        \n",
    "    price[menu[item]].append(item)\n",
    "    \n",
    "print(\"The dollar menu items would be\" + str(price[1.0]))"
   ]
  },
  {
   "cell_type": "markdown",
   "id": "6faab5c7",
   "metadata": {},
   "source": [
    "## Exercise 2 - Constructing a Dictionary from Analysis\n",
    "\n",
    "Write a function called `digit_count` that given a string of digits, returns a dictionary that counts how many times each digit appears in the text. The `keys` are the digits and the `values` are the counts of how many times the digit occurs.\n",
    "\n",
    "For example, if the number is PI, 3.141592653589793, it would return:\n",
    "\n",
    "{'3': 3, '1': 2, '4': 1, '5': 3, '9': 3, '2': 1, '6': 1, '8': 1, '7': 1}"
   ]
  },
  {
   "cell_type": "code",
   "execution_count": 4,
   "id": "8344ad00",
   "metadata": {},
   "outputs": [
    {
     "name": "stdout",
     "output_type": "stream",
     "text": [
      "{'3': 3, '1': 2, '4': 1, '5': 3, '9': 3, '2': 1, '6': 1, '8': 1, '7': 1}\n"
     ]
    }
   ],
   "source": [
    "def digit_count(string_of_digits):\n",
    "    digit_count_dict = {}\n",
    "    for digit in string_of_digits:\n",
    "        if digit.isnumeric():\n",
    "            if digit not in digit_count_dict:\n",
    "                digit_count_dict[digit] = 0\n",
    "        \n",
    "            digit_count_dict[digit] += 1\n",
    "        \n",
    "    return digit_count_dict\n",
    "\n",
    "\n",
    "print(digit_count(\"3.141592653589793\"))\n",
    "    "
   ]
  },
  {
   "cell_type": "markdown",
   "id": "2959f5e2",
   "metadata": {},
   "source": [
    "# Exercise 3 - Using sets\n",
    "\n",
    "a. Use a set to find the unique majors from the list below.\n"
   ]
  },
  {
   "cell_type": "code",
   "execution_count": 5,
   "id": "d2eb7f10",
   "metadata": {},
   "outputs": [
    {
     "name": "stdout",
     "output_type": "stream",
     "text": [
      "{'Business Administration', 'Criminal Justice', 'Undeclared', 'Nursing', 'Radiography'}\n"
     ]
    }
   ],
   "source": [
    "majors = ['Nursing', 'Nursing', 'Undeclared', 'Criminal Justice', \n",
    "          'Radiography', 'Radiography', 'Criminal Justice', 'Nursing', 'Business Administration']\n",
    "\n",
    "majors_set = set()\n",
    "\n",
    "for major in majors:\n",
    "    majors_set.add(major)\n",
    "    \n",
    "print(majors_set)"
   ]
  },
  {
   "cell_type": "markdown",
   "id": "0585e794",
   "metadata": {},
   "source": [
    "b. Find the set of majors from the dictionary below."
   ]
  },
  {
   "cell_type": "code",
   "execution_count": 6,
   "id": "e283b05c",
   "metadata": {},
   "outputs": [
    {
     "name": "stdout",
     "output_type": "stream",
     "text": [
      "{'Computer Science', 'Digital Media', 'Information Technology', 'Game Development'}\n"
     ]
    }
   ],
   "source": [
    "students = {\n",
    "    'Adrian' : 'Computer Science',\n",
    "    'John' : 'Information Technology',\n",
    "    'Lara' : 'Computer Science',\n",
    "    'Danny' : 'Game Development',\n",
    "    'Humna' : 'Digital Media',\n",
    "    'Ananya' : 'Computer Science'\n",
    "}\n",
    "\n",
    "majors_set_2 = set()\n",
    "\n",
    "for student in students:\n",
    "    majors_set_2.add(students[student])\n",
    "    \n",
    "print(majors_set_2)"
   ]
  },
  {
   "cell_type": "markdown",
   "id": "093579a7",
   "metadata": {},
   "source": [
    "c.  Using a set operation, create a superset of the majors from the two sets above."
   ]
  },
  {
   "cell_type": "code",
   "execution_count": 7,
   "id": "91bc9450",
   "metadata": {},
   "outputs": [
    {
     "name": "stdout",
     "output_type": "stream",
     "text": [
      "{'Business Administration', 'Information Technology', 'Criminal Justice', 'Computer Science', 'Game Development', 'Undeclared', 'Digital Media', 'Nursing', 'Radiography'}\n"
     ]
    }
   ],
   "source": [
    "all_majors = majors_set.union(majors_set_2)\n",
    "\n",
    "print(all_majors)"
   ]
  }
 ],
 "metadata": {
  "interpreter": {
   "hash": "313623be14b5315ad9b731e2722de17b6695b56bea3a8826119fb40ff2afb887"
  },
  "kernelspec": {
   "display_name": "Python 3.9.12 ('base')",
   "language": "python",
   "name": "python3"
  },
  "language_info": {
   "codemirror_mode": {
    "name": "ipython",
    "version": 3
   },
   "file_extension": ".py",
   "mimetype": "text/x-python",
   "name": "python",
   "nbconvert_exporter": "python",
   "pygments_lexer": "ipython3",
   "version": "3.9.12"
  },
  "vscode": {
   "interpreter": {
    "hash": "e7370f93d1d0cde622a1f8e1c04877d8463912d04d973331ad4851f04de6915a"
   }
  }
 },
 "nbformat": 4,
 "nbformat_minor": 5
}
