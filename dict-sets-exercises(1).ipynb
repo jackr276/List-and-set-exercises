{
 "cells": [
  {
   "cell_type": "markdown",
   "id": "229883fc",
   "metadata": {},
   "source": [
    "#### Your Name:\n",
    "#### Date:"
   ]
  },
  {
   "cell_type": "markdown",
   "id": "ec676aff",
   "metadata": {},
   "source": [
    "# Dictionary and Sets Exercises\n"
   ]
  },
  {
   "cell_type": "markdown",
   "id": "eff5599f",
   "metadata": {},
   "source": [
    "## Exercise 1 - Dictionary Creation\n",
    "\n",
    "a. Construct a dictionary called `menu` for the following restaurant menu using the Item name as the `key`.  Then display how much a Small drink costs.\n",
    "\n",
    "\n",
    "\n",
    "| Item | Price |\n",
    "| --- | --- |\n",
    "| Small fries | 1.00 |\n",
    "| Hamburger | 1.00 |\n",
    "| Small drink | 1.00|\n",
    "| Medium drink | 1.50 |\n",
    "| Large drink | 2.00 |\n",
    "| Medium fries | 1.45 |\n",
    "| Large fries | 2.00 |\n",
    "| Cheeseburger | 2.50 |\n",
    "\n",
    "\n",
    "\n"
   ]
  },
  {
   "cell_type": "code",
   "execution_count": null,
   "id": "d8923d53",
   "metadata": {},
   "outputs": [],
   "source": []
  },
  {
   "cell_type": "markdown",
   "id": "eff831fd",
   "metadata": {},
   "source": [
    "b. Programmatically create a new dictionary called `drinks` which only has the drink items as keys and its corresponding price.  (Hint: Use a loop to step through the keys of menu and then use the `in` operator to see if the key is a drink.  If so, then add it to the dictionary.)"
   ]
  },
  {
   "cell_type": "code",
   "execution_count": null,
   "id": "88fa5f54",
   "metadata": {},
   "outputs": [],
   "source": []
  },
  {
   "cell_type": "markdown",
   "id": "25f9437b",
   "metadata": {},
   "source": [
    "c. Construct a dictionary `price` for the above restaurant menu using the Price as the `key`.  (Hint: use a list for the values.)\n",
    "\n",
    "Then, display the items that can appear on the Dollar Menu. "
   ]
  },
  {
   "cell_type": "code",
   "execution_count": null,
   "id": "3d2f50c1",
   "metadata": {},
   "outputs": [],
   "source": []
  },
  {
   "cell_type": "markdown",
   "id": "6faab5c7",
   "metadata": {},
   "source": [
    "## Exercise 2 - Constructing a Dictionary from Analysis\n",
    "\n",
    "Write a function called `digit_count` that given a string of digits, returns a dictionary that counts how many times each digit appears in the text. The `keys` are the digits and the `values` are the counts of how many times the digit occurs.\n",
    "\n",
    "For example, if the number is PI, 3.141592653589793, it would return:\n",
    "\n",
    "{'3': 3, '1': 2, '4': 1, '5': 3, '9': 3, '2': 1, '6': 1, '8': 1, '7': 1}"
   ]
  },
  {
   "cell_type": "code",
   "execution_count": null,
   "id": "8344ad00",
   "metadata": {},
   "outputs": [],
   "source": []
  },
  {
   "cell_type": "markdown",
   "id": "2959f5e2",
   "metadata": {},
   "source": [
    "# Exercise 3 - Using sets\n",
    "\n",
    "a. Use a set to find the unique majors from the list below.\n"
   ]
  },
  {
   "cell_type": "code",
   "execution_count": 5,
   "id": "d2eb7f10",
   "metadata": {},
   "outputs": [],
   "source": [
    "majors = ['Nursing', 'Nursing', 'Undeclared', 'Criminal Justice', \n",
    "          'Radiography', 'Radiography', 'Criminal Justice', 'Nursing', 'Business Administration']\n",
    "\n"
   ]
  },
  {
   "cell_type": "markdown",
   "id": "0585e794",
   "metadata": {},
   "source": [
    "b. Find the set of majors from the dictionary below."
   ]
  },
  {
   "cell_type": "code",
   "execution_count": 7,
   "id": "e283b05c",
   "metadata": {},
   "outputs": [],
   "source": [
    "students = {\n",
    "    'Adrian' : 'Computer Science',\n",
    "    'John' : 'Information Technology',\n",
    "    'Lara' : 'Computer Science',\n",
    "    'Danny' : 'Game Development',\n",
    "    'Humna' : 'Digital Media',\n",
    "    'Ananya' : 'Computer Science'\n",
    "}\n"
   ]
  },
  {
   "cell_type": "markdown",
   "id": "093579a7",
   "metadata": {},
   "source": [
    "c.  Using a set operation, create a superset of the majors from the two sets above."
   ]
  },
  {
   "cell_type": "code",
   "execution_count": null,
   "id": "91bc9450",
   "metadata": {},
   "outputs": [],
   "source": []
  },
  {
   "cell_type": "code",
   "execution_count": null,
   "id": "f216849b",
   "metadata": {},
   "outputs": [],
   "source": []
  }
 ],
 "metadata": {
  "kernelspec": {
   "display_name": "Python 3 (ipykernel)",
   "language": "python",
   "name": "python3"
  },
  "language_info": {
   "codemirror_mode": {
    "name": "ipython",
    "version": 3
   },
   "file_extension": ".py",
   "mimetype": "text/x-python",
   "name": "python",
   "nbconvert_exporter": "python",
   "pygments_lexer": "ipython3",
   "version": "3.8.12"
  }
 },
 "nbformat": 4,
 "nbformat_minor": 5
}
